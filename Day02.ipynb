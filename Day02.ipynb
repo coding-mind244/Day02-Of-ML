{
 "cells": [
  {
   "cell_type": "markdown",
   "id": "091bf514-622f-4e6b-a464-35c9ba5b24c5",
   "metadata": {},
   "source": [
    "# Creating numpy/ n-d arrays\n"
   ]
  },
  {
   "cell_type": "markdown",
   "id": "0b51976d-04dc-4b45-ab3b-f938c0a7ac2d",
   "metadata": {},
   "source": [
    "## To numpy liabrary first you have to import."
   ]
  },
  {
   "cell_type": "markdown",
   "id": "983c76cf-e78d-473d-9fe6-0c2d5ce8d33b",
   "metadata": {},
   "source": [
    "### There are 6 ways to create Numpy Array\n",
    "### Method # 01"
   ]
  },
  {
   "cell_type": "code",
   "execution_count": 7,
   "id": "23f25913-04fe-402b-8f00-1767d3258053",
   "metadata": {},
   "outputs": [],
   "source": [
    "import numpy as np"
   ]
  },
  {
   "cell_type": "code",
   "execution_count": 8,
   "id": "48b55814-afe8-475e-b424-51de82877867",
   "metadata": {},
   "outputs": [
    {
     "data": {
      "text/plain": [
       "array([1, 2, 3, 4, 5])"
      ]
     },
     "execution_count": 8,
     "metadata": {},
     "output_type": "execute_result"
    }
   ],
   "source": [
    "arr1 = np.array([1,2,3,4,5])\n",
    "arr1"
   ]
  },
  {
   "cell_type": "code",
   "execution_count": 9,
   "id": "fe970988-a475-4d11-b26f-05cc00682ddd",
   "metadata": {},
   "outputs": [
    {
     "data": {
      "text/plain": [
       "array([[1, 2, 3],\n",
       "       [4, 5, 6]])"
      ]
     },
     "execution_count": 9,
     "metadata": {},
     "output_type": "execute_result"
    }
   ],
   "source": [
    "arr2 = np.array([[1,2,3],[4,5,6]])\n",
    "arr2"
   ]
  },
  {
   "cell_type": "markdown",
   "id": "332ffe45-be3e-4158-8ea2-90733a2bc298",
   "metadata": {},
   "source": [
    "#### arr1 is 1D array and arr2 is 2D array\n",
    "#### Note: 1D array is also known as Vector"
   ]
  },
  {
   "cell_type": "code",
   "execution_count": 11,
   "id": "0d625fa6-83ec-486c-b2c2-38e66ec0fee2",
   "metadata": {},
   "outputs": [
    {
     "data": {
      "text/plain": [
       "array([[0., 0., 0.],\n",
       "       [0., 0., 0.],\n",
       "       [0., 0., 0.]])"
      ]
     },
     "execution_count": 11,
     "metadata": {},
     "output_type": "execute_result"
    }
   ],
   "source": [
    "arr3 = np.zeros((3,3))\n",
    "arr3"
   ]
  },
  {
   "cell_type": "code",
   "execution_count": 12,
   "id": "a00296db-957d-4a2b-966d-1c7b65f61060",
   "metadata": {},
   "outputs": [
    {
     "data": {
      "text/plain": [
       "array([[1., 1.],\n",
       "       [1., 1.]])"
      ]
     },
     "execution_count": 12,
     "metadata": {},
     "output_type": "execute_result"
    }
   ],
   "source": [
    "arr4 = np.ones((2,2))\n",
    "arr4"
   ]
  },
  {
   "cell_type": "code",
   "execution_count": 16,
   "id": "ff94d653-d9a6-438f-8cc2-414bc7274c3f",
   "metadata": {},
   "outputs": [
    {
     "data": {
      "text/plain": [
       "array([[1., 0.],\n",
       "       [0., 1.]])"
      ]
     },
     "execution_count": 16,
     "metadata": {},
     "output_type": "execute_result"
    }
   ],
   "source": [
    "arr5 = np.identity(2)\n",
    "arr5"
   ]
  },
  {
   "cell_type": "code",
   "execution_count": 20,
   "id": "ab768946-5bd8-474b-9fba-938d8e86713c",
   "metadata": {},
   "outputs": [
    {
     "data": {
      "text/plain": [
       "array([ 7,  8,  9, 10, 11, 12, 13, 14, 15, 16, 17, 18, 19])"
      ]
     },
     "execution_count": 20,
     "metadata": {},
     "output_type": "execute_result"
    }
   ],
   "source": [
    "arr6 = np.arange(10)\n",
    "arr6"
   ]
  },
  {
   "cell_type": "code",
   "execution_count": 21,
   "id": "1fbb4230-6abb-422f-9f3a-910a73ed2cb2",
   "metadata": {},
   "outputs": [
    {
     "data": {
      "text/plain": [
       "array([ 7,  8,  9, 10, 11, 12, 13, 14, 15, 16, 17, 18, 19, 20])"
      ]
     },
     "execution_count": 21,
     "metadata": {},
     "output_type": "execute_result"
    }
   ],
   "source": [
    "arr7 = np.arange(7,21)\n",
    "arr7"
   ]
  },
  {
   "cell_type": "code",
   "execution_count": 22,
   "id": "13b921c6-1b0f-4dcb-9888-e6eb5572fa59",
   "metadata": {},
   "outputs": [
    {
     "data": {
      "text/plain": [
       "array([ 5,  7,  9, 11, 13, 15, 17, 19])"
      ]
     },
     "execution_count": 22,
     "metadata": {},
     "output_type": "execute_result"
    }
   ],
   "source": [
    "arr8 = np.arange(5,20,2)\n",
    "arr8"
   ]
  },
  {
   "cell_type": "markdown",
   "id": "6ab3e1d4-a0a7-4c27-9bee-84b5a20e1261",
   "metadata": {},
   "source": [
    "#### In arr8 the third value is using just like a jumping varaible"
   ]
  },
  {
   "cell_type": "code",
   "execution_count": 24,
   "id": "bcec0128-872d-4028-8e48-f19e7e5accfb",
   "metadata": {},
   "outputs": [
    {
     "data": {
      "text/plain": [
       "array([ 5,  7,  9, 11, 13, 15, 17, 19])"
      ]
     },
     "execution_count": 24,
     "metadata": {},
     "output_type": "execute_result"
    }
   ],
   "source": [
    "arr9 = arr8.copy()\n",
    "arr9"
   ]
  },
  {
   "cell_type": "code",
   "execution_count": null,
   "id": "bff96e67-95ca-4588-8ed3-f803405007c5",
   "metadata": {},
   "outputs": [],
   "source": []
  }
 ],
 "metadata": {
  "kernelspec": {
   "display_name": "Python 3 (ipykernel)",
   "language": "python",
   "name": "python3"
  },
  "language_info": {
   "codemirror_mode": {
    "name": "ipython",
    "version": 3
   },
   "file_extension": ".py",
   "mimetype": "text/x-python",
   "name": "python",
   "nbconvert_exporter": "python",
   "pygments_lexer": "ipython3",
   "version": "3.12.7"
  }
 },
 "nbformat": 4,
 "nbformat_minor": 5
}
